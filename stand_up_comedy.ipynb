{
  "nbformat": 4,
  "nbformat_minor": 0,
  "metadata": {
    "colab": {
      "name": "stand-up comedy.ipynb",
      "provenance": [],
      "collapsed_sections": [],
      "authorship_tag": "ABX9TyOTscY6U26n6jGI96lw0zln",
      "include_colab_link": true
    },
    "kernelspec": {
      "name": "python3",
      "display_name": "Python 3"
    },
    "language_info": {
      "name": "python"
    }
  },
  "cells": [
    {
      "cell_type": "markdown",
      "metadata": {
        "id": "view-in-github",
        "colab_type": "text"
      },
      "source": [
        "<a href=\"https://colab.research.google.com/github/poorna0601/stand-up/blob/main/stand_up_comedy.ipynb\" target=\"_parent\"><img src=\"https://colab.research.google.com/assets/colab-badge.svg\" alt=\"Open In Colab\"/></a>"
      ]
    },
    {
      "cell_type": "code",
      "metadata": {
        "colab": {
          "base_uri": "https://localhost:8080/"
        },
        "id": "9jUs3r3usARr",
        "outputId": "a3f2530b-7546-469d-ae4b-597d28477b3e"
      },
      "source": [
        "#@title Install Software\n",
        "\n",
        "!git clone https://github.com/poorna0601/stand-up.git\n",
        "\n",
        "%cd laughter-detection/\n",
        "!pip install tgt\n",
        "!pip install pyloudnorm\n",
        "!pip install praatio==3.8.0\n",
        "!pip install tensorboardX==1.9\n",
        "\n",
        "from google.colab import files"
      ],
      "execution_count": 1,
      "outputs": [
        {
          "output_type": "stream",
          "name": "stdout",
          "text": [
            "Cloning into 'stand-up'...\n",
            "remote: Enumerating objects: 18, done.\u001b[K\n",
            "remote: Counting objects: 100% (18/18), done.\u001b[K\n",
            "remote: Compressing objects: 100% (16/16), done.\u001b[K\n",
            "remote: Total 18 (delta 2), reused 0 (delta 0), pack-reused 0\u001b[K\n",
            "Unpacking objects: 100% (18/18), done.\n",
            "[Errno 2] No such file or directory: 'laughter-detection/'\n",
            "/content\n",
            "Collecting tgt\n",
            "  Downloading tgt-1.4.4.tar.gz (21 kB)\n",
            "Building wheels for collected packages: tgt\n",
            "  Building wheel for tgt (setup.py) ... \u001b[?25l\u001b[?25hdone\n",
            "  Created wheel for tgt: filename=tgt-1.4.4-py3-none-any.whl size=28929 sha256=cf385f331f0b949ff5707b5907f03b113c75c659ef17d1bd6acfa9579c7ee6fe\n",
            "  Stored in directory: /root/.cache/pip/wheels/23/26/00/05f728381a2620ac79029acb7eb117631a8d1046d0c603ab5e\n",
            "Successfully built tgt\n",
            "Installing collected packages: tgt\n",
            "Successfully installed tgt-1.4.4\n",
            "Collecting pyloudnorm\n",
            "  Downloading pyloudnorm-0.1.0-py3-none-any.whl (9.3 kB)\n",
            "Requirement already satisfied: future>=0.16.0 in /usr/local/lib/python3.7/dist-packages (from pyloudnorm) (0.16.0)\n",
            "Requirement already satisfied: scipy>=1.0.1 in /usr/local/lib/python3.7/dist-packages (from pyloudnorm) (1.4.1)\n",
            "Requirement already satisfied: numpy>=1.14.2 in /usr/local/lib/python3.7/dist-packages (from pyloudnorm) (1.19.5)\n",
            "Installing collected packages: pyloudnorm\n",
            "Successfully installed pyloudnorm-0.1.0\n",
            "Collecting praatio==3.8.0\n",
            "  Downloading praatio-3.8.0-py3-none-any.whl (67 kB)\n",
            "\u001b[K     |████████████████████████████████| 67 kB 5.2 MB/s \n",
            "\u001b[?25hInstalling collected packages: praatio\n",
            "Successfully installed praatio-3.8.0\n",
            "Collecting tensorboardX==1.9\n",
            "  Downloading tensorboardX-1.9-py2.py3-none-any.whl (190 kB)\n",
            "\u001b[K     |████████████████████████████████| 190 kB 29.4 MB/s \n",
            "\u001b[?25hRequirement already satisfied: six in /usr/local/lib/python3.7/dist-packages (from tensorboardX==1.9) (1.15.0)\n",
            "Requirement already satisfied: numpy in /usr/local/lib/python3.7/dist-packages (from tensorboardX==1.9) (1.19.5)\n",
            "Requirement already satisfied: protobuf>=3.8.0 in /usr/local/lib/python3.7/dist-packages (from tensorboardX==1.9) (3.17.3)\n",
            "Installing collected packages: tensorboardX\n",
            "Successfully installed tensorboardX-1.9\n"
          ]
        }
      ]
    },
    {
      "cell_type": "code",
      "metadata": {
        "id": "9oHgucyzsX5h"
      },
      "source": [
        "\n",
        "import os, sys, pickle, time, librosa, argparse, torch, numpy as np, pandas as pd, scipy\n",
        "from tqdm import tqdm\n",
        "import tgt\n",
        "sys.path.append('./utils/')\n",
        "import laugh_segmenter\n",
        "import models, configs\n",
        "import dataset_utils, audio_utils, data_loaders, torch_utils\n",
        "from tqdm import tqdm\n",
        "from torch import optim, nn\n",
        "from functools import partial\n",
        "from distutils.util import strtobool\n",
        "\n",
        "sample_rate = 8000\n",
        "\n",
        "model_path = 'checkpoints/in_use/resnet_with_augmentation'\n",
        "config = configs.CONFIG_MAP['resnet_with_augmentation']\n",
        "\n",
        "device = torch.device('cuda' if torch.cuda.is_available() else 'cpu')\n",
        "print(f\"Using device {device}\")\n",
        "\n",
        "##### Load the Model\n",
        "\n",
        "model = config['model'](dropout_rate=0.0, linear_layer_size=config['linear_layer_size'], filter_sizes=config['filter_sizes'])\n",
        "feature_fn = config['feature_fn']\n",
        "model.set_device(device)\n",
        "\n",
        "if os.path.exists(model_path):\n",
        "    torch_utils.load_checkpoint(model_path+'/best.pth.tar', model)\n",
        "    model.eval()\n",
        "else:\n",
        "    raise Exception(f\"Model checkpoint not found at {model_path}\")"
      ],
      "execution_count": null,
      "outputs": []
    },
    {
      "cell_type": "code",
      "metadata": {
        "id": "EaPf6yW9sdTZ"
      },
      "source": [
        "\n",
        "uploaded = files.upload()\n",
        "audio_path = list(uploaded.keys())[0]\n"
      ],
      "execution_count": null,
      "outputs": []
    },
    {
      "cell_type": "code",
      "metadata": {
        "id": "_nRVNUyFsg70"
      },
      "source": [
        "\n",
        "threshold = 0.5 #@param {type:\"slider\", min:0.1, max:1.0, step:0.1}\n",
        "min_length = 0.2 #@param {type:\"slider\", min:0.1, max:1.0, step:0.1}\n",
        "save_to_audio_files = True #@param {type:\"boolean\"}\n",
        "save_to_textgrid = False #@param {type:\"boolean\"}\n",
        "output_dir = 'laughter_detection_output' #@param {type:\"string\"}\n",
        "\n",
        "\n",
        "##### Load the audio file and features\n",
        "    \n",
        "inference_dataset = data_loaders.SwitchBoardLaughterInferenceDataset(\n",
        "    audio_path=audio_path, feature_fn=feature_fn, sr=sample_rate)\n",
        "\n",
        "collate_fn=partial(audio_utils.pad_sequences_with_labels,\n",
        "                        expand_channel_dim=config['expand_channel_dim'])\n",
        "\n",
        "inference_generator = torch.utils.data.DataLoader(\n",
        "    inference_dataset, num_workers=4, batch_size=8, shuffle=False, collate_fn=collate_fn)\n",
        "\n",
        "\n",
        "##### Make Predictions\n",
        "\n",
        "probs = []\n",
        "for model_inputs, _ in tqdm(inference_generator):\n",
        "    x = torch.from_numpy(model_inputs).float().to(device)\n",
        "    preds = model(x).cpu().detach().numpy().squeeze()\n",
        "    if len(preds.shape)==0:\n",
        "        preds = [float(preds)]\n",
        "    else:\n",
        "        preds = list(preds)\n",
        "    probs += preds\n",
        "probs = np.array(probs)\n",
        "\n",
        "file_length = audio_utils.get_audio_length(audio_path)\n",
        "\n",
        "fps = len(probs)/float(file_length)\n",
        "\n",
        "probs = laugh_segmenter.lowpass(probs)\n",
        "instances = laugh_segmenter.get_laughter_instances(probs, threshold=threshold, min_length=float(min_length), fps=fps)\n",
        "\n",
        "print(); print(\"found %d laughs.\" % (len (instances)))\n",
        "\n",
        "if len(instances) > 0:\n",
        "    full_res_y, full_res_sr = librosa.load(audio_path,sr=44100)\n",
        "    wav_paths = []\n",
        "    maxv = np.iinfo(np.int16).max\n",
        "    \n",
        "    if save_to_audio_files:\n",
        "        if output_dir is None:\n",
        "            raise Exception(\"Need to specify an output directory to save audio files\")\n",
        "        else:\n",
        "            os.system(f\"mkdir -p {output_dir}\")\n",
        "            for index, instance in enumerate(instances):\n",
        "                laughs = laugh_segmenter.cut_laughter_segments([instance],full_res_y,full_res_sr)\n",
        "                wav_path = output_dir + \"/laugh_\" + str(index) + \".wav\"\n",
        "                scipy.io.wavfile.write(wav_path, full_res_sr, (laughs * maxv).astype(np.int16))\n",
        "                wav_paths.append(wav_path)\n",
        "            print(laugh_segmenter.format_outputs(instances, wav_paths))\n",
        "    \n",
        "    if save_to_textgrid:\n",
        "        laughs = [{'start': i[0], 'end': i[1]} for i in instances]\n",
        "        tg = tgt.TextGrid()\n",
        "        laughs_tier = tgt.IntervalTier(name='laughter', objects=[\n",
        "        tgt.Interval(l['start'], l['end'], 'laugh') for l in laughs])\n",
        "        tg.add_tier(laughs_tier)\n",
        "        fname = os.path.splitext(os.path.basename(audio_path))[0]\n",
        "        tgt.write_to_file(tg, os.path.join(output_dir, fname + '_laughter.TextGrid'))\n",
        "\n",
        "        print('Saved laughter segments in {}'.format(\n",
        "            os.path.join(output_dir, fname + '_laughter.TextGrid')))"
      ],
      "execution_count": null,
      "outputs": []
    },
    {
      "cell_type": "code",
      "metadata": {
        "id": "e7t0n7XqsmEY"
      },
      "source": [
        "#@title Listen to the detected laughter\n",
        "\n",
        "import IPython\n",
        "from IPython.display import Audio\n",
        "detected_laughs = librosa.util.find_files(output_dir)\n",
        "for laugh in detected_laughs:\n",
        "  IPython.display.display(Audio(laugh))"
      ],
      "execution_count": null,
      "outputs": []
    }
  ]
}